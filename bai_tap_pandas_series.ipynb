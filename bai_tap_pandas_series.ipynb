{
  "nbformat": 4,
  "nbformat_minor": 0,
  "metadata": {
    "kernelspec": {
      "display_name": "Python 3",
      "language": "python",
      "name": "python3"
    },
    "language_info": {
      "codemirror_mode": {
        "name": "ipython",
        "version": 3
      },
      "file_extension": ".py",
      "mimetype": "text/x-python",
      "name": "python",
      "nbconvert_exporter": "python",
      "pygments_lexer": "ipython3",
      "version": "3.7.3"
    },
    "colab": {
      "name": "bai-tap-pandas-series.ipynb",
      "provenance": [],
      "include_colab_link": true
    }
  },
  "cells": [
    {
      "cell_type": "markdown",
      "metadata": {
        "id": "view-in-github",
        "colab_type": "text"
      },
      "source": [
        "<a href=\"https://colab.research.google.com/github/congltk1234/NhapMonKHDL/blob/main/bai_tap_pandas_series.ipynb\" target=\"_parent\"><img src=\"https://colab.research.google.com/assets/colab-badge.svg\" alt=\"Open In Colab\"/></a>"
      ]
    },
    {
      "cell_type": "code",
      "metadata": {
        "id": "4YhnxKeQc5A3"
      },
      "source": [
        "import pandas as pd\r\n",
        "import numpy as np"
      ],
      "execution_count": 2,
      "outputs": []
    },
    {
      "cell_type": "markdown",
      "metadata": {
        "id": "DX1mww3OY_yU"
      },
      "source": [
        "Câu 1: Hãy tạo 1 đối tượng kiểu Series có tối thiểu 10 phần tử (kiểu số) với giá trị tùy ý thích của bạn. \n",
        "       In giá trị của Series đó ra màn hình"
      ]
    },
    {
      "cell_type": "code",
      "metadata": {
        "id": "37aSYFzcY_yf",
        "colab": {
          "base_uri": "https://localhost:8080/"
        },
        "outputId": "9df120ca-0f62-4429-fba7-d84c0e623b80"
      },
      "source": [
        "#cau1 = pd.Series([np.random.randint(0, high=10, size=10, dtype=int)])  Kiểu object????\r\n",
        "cau1 = pd.Series([31,28,31,30,31,30,31,31,30,31,30,31])\r\n",
        "cau1"
      ],
      "execution_count": 48,
      "outputs": [
        {
          "output_type": "execute_result",
          "data": {
            "text/plain": [
              "0     31\n",
              "1     28\n",
              "2     31\n",
              "3     30\n",
              "4     31\n",
              "5     30\n",
              "6     31\n",
              "7     31\n",
              "8     30\n",
              "9     31\n",
              "10    30\n",
              "11    31\n",
              "dtype: int64"
            ]
          },
          "metadata": {
            "tags": []
          },
          "execution_count": 48
        }
      ]
    },
    {
      "cell_type": "markdown",
      "metadata": {
        "id": "CkAdADXUY_yh"
      },
      "source": [
        "Câu 2: Hãy tạo 1 đối tượng kiểu Series với giá trị khởi tạo hình thành từ dữ liệu kiểu Dictionary. In kết quả ra màn hình"
      ]
    },
    {
      "cell_type": "code",
      "metadata": {
        "id": "bRRWZ3FSY_yi",
        "colab": {
          "base_uri": "https://localhost:8080/"
        },
        "outputId": "09a7a8bf-e2c0-4df0-dfff-badccdb3b11b"
      },
      "source": [
        "dict2 = {'Tháng 1': 31, 'Tháng 2': 28, 'Tháng 3': 31, 'Tháng 4': 30, 'Tháng 5': 31, 'Tháng 6': 30, \r\n",
        "              'Tháng 7': 31, 'Tháng 8':31, 'Tháng 9':30, 'Tháng 10':31, 'Tháng 11':30, 'Tháng 12':31}\r\n",
        "cau2 = pd.Series(dict2)\r\n",
        "cau2"
      ],
      "execution_count": 55,
      "outputs": [
        {
          "output_type": "execute_result",
          "data": {
            "text/plain": [
              "Tháng 1     31\n",
              "Tháng 2     28\n",
              "Tháng 3     31\n",
              "Tháng 4     30\n",
              "Tháng 5     31\n",
              "Tháng 6     30\n",
              "Tháng 7     31\n",
              "Tháng 8     31\n",
              "Tháng 9     30\n",
              "Tháng 10    31\n",
              "Tháng 11    30\n",
              "Tháng 12    31\n",
              "dtype: int64"
            ]
          },
          "metadata": {
            "tags": []
          },
          "execution_count": 55
        }
      ]
    },
    {
      "cell_type": "markdown",
      "metadata": {
        "id": "lW-mol9xY_yj"
      },
      "source": [
        "Câu 3: Sử dụng series ở câu 1, hãy thay đổi giá trị của cột index từ kiểu số theo kiểu ký tự với giá trị do bạn tự xác định."
      ]
    },
    {
      "cell_type": "code",
      "metadata": {
        "id": "2ebxUxszY_yk",
        "outputId": "bf264458-7979-4c95-d7ae-8f3b9a79a3c6",
        "colab": {
          "base_uri": "https://localhost:8080/"
        }
      },
      "source": [
        "cau1.index=['Tháng 1','Tháng 2','Tháng 3','Tháng 4','Tháng 5','Tháng 6','Tháng 7','Tháng 8','Tháng 9','Tháng 10','Tháng 11','Tháng 12']\r\n",
        "cau3=cau1\r\n",
        "cau3"
      ],
      "execution_count": 49,
      "outputs": [
        {
          "output_type": "execute_result",
          "data": {
            "text/plain": [
              "Tháng 1     31\n",
              "Tháng 2     28\n",
              "Tháng 3     31\n",
              "Tháng 4     30\n",
              "Tháng 5     31\n",
              "Tháng 6     30\n",
              "Tháng 7     31\n",
              "Tháng 8     31\n",
              "Tháng 9     30\n",
              "Tháng 10    31\n",
              "Tháng 11    30\n",
              "Tháng 12    31\n",
              "dtype: int64"
            ]
          },
          "metadata": {
            "tags": []
          },
          "execution_count": 49
        }
      ]
    },
    {
      "cell_type": "markdown",
      "metadata": {
        "id": "CSyrmhDiY_yk"
      },
      "source": [
        "Câu 4: Sử dụng series ở câu 2, hãy truy cập đến phần tử thứ 5 và in ra màn hình"
      ]
    },
    {
      "cell_type": "code",
      "metadata": {
        "id": "evBmriYDY_yl",
        "outputId": "1d2df782-a0c1-486f-de8f-76e53d6d05d5",
        "colab": {
          "base_uri": "https://localhost:8080/"
        }
      },
      "source": [
        "cau2[5]"
      ],
      "execution_count": 56,
      "outputs": [
        {
          "output_type": "execute_result",
          "data": {
            "text/plain": [
              "30"
            ]
          },
          "metadata": {
            "tags": []
          },
          "execution_count": 56
        }
      ]
    },
    {
      "cell_type": "markdown",
      "metadata": {
        "id": "mLAGSi0sY_ym"
      },
      "source": [
        "Câu 5: Sử dụng series ở câu 3, hãy truy cập đến 1 phần tử dựa theo chỉ số kiểu ký tự do bạn lựa chọn và in ra màn hình"
      ]
    },
    {
      "cell_type": "code",
      "metadata": {
        "id": "GhsZcOB9Y_ym",
        "outputId": "5fc3a21a-c758-4690-c416-0b2fe59c1414",
        "colab": {
          "base_uri": "https://localhost:8080/"
        }
      },
      "source": [
        "cau3['Tháng 5']"
      ],
      "execution_count": 58,
      "outputs": [
        {
          "output_type": "execute_result",
          "data": {
            "text/plain": [
              "31"
            ]
          },
          "metadata": {
            "tags": []
          },
          "execution_count": 58
        }
      ]
    },
    {
      "cell_type": "markdown",
      "metadata": {
        "id": "Iy4HqCFtY_yn"
      },
      "source": [
        "Câu 6: Sử dụng series ở câu 3, hãy tìm ra tính chất đặc thù trong các chỉ số kiểu kí tự, thực hiện vòng lặp for duyệt trên các chỉ mục kiểu kí tự này để lọc ra những phần tử thỏa mãn điều kiện và in ra màn hình"
      ]
    },
    {
      "cell_type": "code",
      "metadata": {
        "id": "wV3mW8FqY_yn",
        "outputId": "442557ef-7eb0-433f-b6d7-c677a8238fff",
        "colab": {
          "base_uri": "https://localhost:8080/"
        }
      },
      "source": [
        "cau3[[name.endswith('5') for name in cau3.index]]"
      ],
      "execution_count": 59,
      "outputs": [
        {
          "output_type": "execute_result",
          "data": {
            "text/plain": [
              "Tháng 5    31\n",
              "dtype: int64"
            ]
          },
          "metadata": {
            "tags": []
          },
          "execution_count": 59
        }
      ]
    },
    {
      "cell_type": "markdown",
      "metadata": {
        "id": "0XYBKPJLY_yo"
      },
      "source": [
        "Câu 7: Sử dụng series ở câu 1, hãy đổi tên cột index thành 'STT' và đặt tên cho series là 'Gia_tri'. In kết quả ra màn hình "
      ]
    },
    {
      "cell_type": "code",
      "metadata": {
        "id": "LMC5oMdEY_yo",
        "outputId": "7c2497dd-6e81-49c5-d443-1154f1e03986",
        "colab": {
          "base_uri": "https://localhost:8080/"
        }
      },
      "source": [
        "cau1.name = 'Gia_tri'\r\n",
        "cau1.index.name = 'STT'\r\n",
        "cau1"
      ],
      "execution_count": 61,
      "outputs": [
        {
          "output_type": "execute_result",
          "data": {
            "text/plain": [
              "STT\n",
              "Tháng 1     31\n",
              "Tháng 2     28\n",
              "Tháng 3     31\n",
              "Tháng 4     30\n",
              "Tháng 5     31\n",
              "Tháng 6     30\n",
              "Tháng 7     31\n",
              "Tháng 8     31\n",
              "Tháng 9     30\n",
              "Tháng 10    31\n",
              "Tháng 11    30\n",
              "Tháng 12    31\n",
              "Name: Gia_tri, dtype: int64"
            ]
          },
          "metadata": {
            "tags": []
          },
          "execution_count": 61
        }
      ]
    },
    {
      "cell_type": "markdown",
      "metadata": {
        "id": "tybjR1G-Y_yp"
      },
      "source": [
        "Câu 8: Hãy áp dụng hàm logarith của gói numpy với series ở câu 1 và in kết quả ra màn hình"
      ]
    },
    {
      "cell_type": "code",
      "metadata": {
        "id": "ksNHK4vFY_yp",
        "outputId": "689994db-270e-4bb9-a6ab-fbd90a2e297a",
        "colab": {
          "base_uri": "https://localhost:8080/"
        }
      },
      "source": [
        "cau1.apply(np.log)"
      ],
      "execution_count": 62,
      "outputs": [
        {
          "output_type": "execute_result",
          "data": {
            "text/plain": [
              "STT\n",
              "Tháng 1     3.433987\n",
              "Tháng 2     3.332205\n",
              "Tháng 3     3.433987\n",
              "Tháng 4     3.401197\n",
              "Tháng 5     3.433987\n",
              "Tháng 6     3.401197\n",
              "Tháng 7     3.433987\n",
              "Tháng 8     3.433987\n",
              "Tháng 9     3.401197\n",
              "Tháng 10    3.433987\n",
              "Tháng 11    3.401197\n",
              "Tháng 12    3.433987\n",
              "Name: Gia_tri, dtype: float64"
            ]
          },
          "metadata": {
            "tags": []
          },
          "execution_count": 62
        }
      ]
    },
    {
      "cell_type": "markdown",
      "metadata": {
        "id": "jw5cuEZrY_yp"
      },
      "source": [
        "Câu 9: Lọc các giá trị của series 1 > 30 và in ra màn hình"
      ]
    },
    {
      "cell_type": "code",
      "metadata": {
        "id": "PegPy_zkY_yq",
        "outputId": "2cf421b0-5877-4e0d-c9b6-33ce17ae19ed",
        "colab": {
          "base_uri": "https://localhost:8080/"
        }
      },
      "source": [
        "cau1[cau1>30]"
      ],
      "execution_count": 63,
      "outputs": [
        {
          "output_type": "execute_result",
          "data": {
            "text/plain": [
              "STT\n",
              "Tháng 1     31\n",
              "Tháng 3     31\n",
              "Tháng 5     31\n",
              "Tháng 7     31\n",
              "Tháng 8     31\n",
              "Tháng 10    31\n",
              "Tháng 12    31\n",
              "Name: Gia_tri, dtype: int64"
            ]
          },
          "metadata": {
            "tags": []
          },
          "execution_count": 63
        }
      ]
    }
  ]
}